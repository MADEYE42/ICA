{
 "cells": [
  {
   "cell_type": "code",
   "execution_count": 1,
   "id": "aba488d6",
   "metadata": {},
   "outputs": [
    {
     "name": "stdout",
     "output_type": "stream",
     "text": [
      "Requirement already satisfied: librosa in c:\\users\\gmady\\appdata\\local\\programs\\python\\python312\\lib\\site-packages (0.11.0)\n",
      "Requirement already satisfied: soundfile in c:\\users\\gmady\\appdata\\local\\programs\\python\\python312\\lib\\site-packages (0.13.1)\n",
      "Requirement already satisfied: audioread>=2.1.9 in c:\\users\\gmady\\appdata\\local\\programs\\python\\python312\\lib\\site-packages (from librosa) (3.0.1)\n",
      "Requirement already satisfied: numba>=0.51.0 in c:\\users\\gmady\\appdata\\local\\programs\\python\\python312\\lib\\site-packages (from librosa) (0.62.1)\n",
      "Requirement already satisfied: numpy>=1.22.3 in c:\\users\\gmady\\appdata\\local\\programs\\python\\python312\\lib\\site-packages (from librosa) (2.2.6)\n",
      "Requirement already satisfied: scipy>=1.6.0 in c:\\users\\gmady\\appdata\\local\\programs\\python\\python312\\lib\\site-packages (from librosa) (1.16.2)\n",
      "Requirement already satisfied: scikit-learn>=1.1.0 in c:\\users\\gmady\\appdata\\local\\programs\\python\\python312\\lib\\site-packages (from librosa) (1.7.2)\n",
      "Requirement already satisfied: joblib>=1.0 in c:\\users\\gmady\\appdata\\local\\programs\\python\\python312\\lib\\site-packages (from librosa) (1.5.2)\n",
      "Requirement already satisfied: decorator>=4.3.0 in c:\\users\\gmady\\appdata\\roaming\\python\\python312\\site-packages (from librosa) (5.2.1)\n",
      "Requirement already satisfied: pooch>=1.1 in c:\\users\\gmady\\appdata\\local\\programs\\python\\python312\\lib\\site-packages (from librosa) (1.8.2)\n",
      "Requirement already satisfied: soxr>=0.3.2 in c:\\users\\gmady\\appdata\\local\\programs\\python\\python312\\lib\\site-packages (from librosa) (1.0.0)\n",
      "Requirement already satisfied: typing_extensions>=4.1.1 in c:\\users\\gmady\\appdata\\local\\programs\\python\\python312\\lib\\site-packages (from librosa) (4.15.0)\n",
      "Requirement already satisfied: lazy_loader>=0.1 in c:\\users\\gmady\\appdata\\local\\programs\\python\\python312\\lib\\site-packages (from librosa) (0.4)\n",
      "Requirement already satisfied: msgpack>=1.0 in c:\\users\\gmady\\appdata\\local\\programs\\python\\python312\\lib\\site-packages (from librosa) (1.1.2)\n",
      "Requirement already satisfied: cffi>=1.0 in c:\\users\\gmady\\appdata\\local\\programs\\python\\python312\\lib\\site-packages (from soundfile) (2.0.0)\n",
      "Requirement already satisfied: pycparser in c:\\users\\gmady\\appdata\\local\\programs\\python\\python312\\lib\\site-packages (from cffi>=1.0->soundfile) (2.23)\n",
      "Requirement already satisfied: packaging in c:\\users\\gmady\\appdata\\local\\programs\\python\\python312\\lib\\site-packages (from lazy_loader>=0.1->librosa) (25.0)\n",
      "Requirement already satisfied: llvmlite<0.46,>=0.45.0dev0 in c:\\users\\gmady\\appdata\\local\\programs\\python\\python312\\lib\\site-packages (from numba>=0.51.0->librosa) (0.45.1)\n",
      "Requirement already satisfied: platformdirs>=2.5.0 in c:\\users\\gmady\\appdata\\roaming\\python\\python312\\site-packages (from pooch>=1.1->librosa) (4.5.0)\n",
      "Requirement already satisfied: requests>=2.19.0 in c:\\users\\gmady\\appdata\\local\\programs\\python\\python312\\lib\\site-packages (from pooch>=1.1->librosa) (2.32.5)\n",
      "Requirement already satisfied: charset_normalizer<4,>=2 in c:\\users\\gmady\\appdata\\local\\programs\\python\\python312\\lib\\site-packages (from requests>=2.19.0->pooch>=1.1->librosa) (3.4.3)\n",
      "Requirement already satisfied: idna<4,>=2.5 in c:\\users\\gmady\\appdata\\local\\programs\\python\\python312\\lib\\site-packages (from requests>=2.19.0->pooch>=1.1->librosa) (3.10)\n",
      "Requirement already satisfied: urllib3<3,>=1.21.1 in c:\\users\\gmady\\appdata\\local\\programs\\python\\python312\\lib\\site-packages (from requests>=2.19.0->pooch>=1.1->librosa) (2.5.0)\n",
      "Requirement already satisfied: certifi>=2017.4.17 in c:\\users\\gmady\\appdata\\local\\programs\\python\\python312\\lib\\site-packages (from requests>=2.19.0->pooch>=1.1->librosa) (2025.10.5)\n",
      "Requirement already satisfied: threadpoolctl>=3.1.0 in c:\\users\\gmady\\appdata\\local\\programs\\python\\python312\\lib\\site-packages (from scikit-learn>=1.1.0->librosa) (3.6.0)\n",
      "Note: you may need to restart the kernel to use updated packages.\n"
     ]
    }
   ],
   "source": [
    "%pip install librosa soundfile"
   ]
  },
  {
   "cell_type": "code",
   "execution_count": null,
   "id": "689f08f2",
   "metadata": {},
   "outputs": [
    {
     "name": "stdout",
     "output_type": "stream",
     "text": [
      "Converted (librosa): audio_input.mp3 -> input_song_02.wav (sr=22050, mono=True)\n"
     ]
    }
   ],
   "source": [
    "import os\n",
    "import librosa\n",
    "import soundfile as sf\n",
    "\n",
    "def convert_mp3_to_wav_librosa(input_mp3_path, output_wav_path=None, target_sr=22050, mono=True, subtype='PCM_16', overwrite=False):\n",
    "    \"\"\"\n",
    "    Convert MP3 -> WAV using librosa (loads audio into numpy arrays) then saves with soundfile.\n",
    "    This resamples and can force mono. librosa's ability to read MP3 may depend on system backends.\n",
    "    \"\"\"\n",
    "    if not os.path.isfile(input_mp3_path):\n",
    "        raise FileNotFoundError(f\"Input MP3 not found: {input_mp3_path}\")\n",
    "\n",
    "    if output_wav_path is None:\n",
    "        base, _ = os.path.splitext(input_mp3_path)\n",
    "        output_wav_path = base + \".wav\"\n",
    "\n",
    "    if os.path.exists(output_wav_path) and not overwrite:\n",
    "        print(f\"Output already exists: {output_wav_path}\")\n",
    "        return output_wav_path\n",
    "\n",
    "    # Load (will resample if sr != None)\n",
    "    y, sr = librosa.load(input_mp3_path, sr=target_sr, mono=mono)  # y is 1D (mono) or 2D depending on mono flag\n",
    "    # Ensure float32 in range [-1,1]\n",
    "    y = y.astype('float32')\n",
    "\n",
    "    # Save WAV\n",
    "    sf.write(output_wav_path, y, target_sr, subtype=subtype)\n",
    "    print(f\"Converted (librosa): {input_mp3_path} -> {output_wav_path} (sr={target_sr}, mono={mono})\")\n",
    "    return output_wav_path\n",
    "wav_path = convert_mp3_to_wav_librosa(\"audio_input.mp3\", \"input_song_02.wav\", target_sr=22050, mono=True)"
   ]
  }
 ],
 "metadata": {
  "kernelspec": {
   "display_name": "venv",
   "language": "python",
   "name": "python3"
  },
  "language_info": {
   "codemirror_mode": {
    "name": "ipython",
    "version": 3
   },
   "file_extension": ".py",
   "mimetype": "text/x-python",
   "name": "python",
   "nbconvert_exporter": "python",
   "pygments_lexer": "ipython3",
   "version": "3.12.10"
  }
 },
 "nbformat": 4,
 "nbformat_minor": 5
}
